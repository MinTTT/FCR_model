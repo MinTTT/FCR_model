{
 "cells": [
  {
   "cell_type": "code",
   "execution_count": 1,
   "metadata": {
    "pycharm": {
     "is_executing": false,
     "name": "#%%\n"
    }
   },
   "outputs": [],
   "source": [
    "import ipywidgets as widgets\n",
    "import plotly.graph_objects as go\n",
    "import utils\n",
    "import numpy as np\n"
   ]
  },
  {
   "cell_type": "code",
   "execution_count": 2,
   "metadata": {
    "pycharm": {
     "is_executing": false,
     "name": "#%%\n"
    }
   },
   "outputs": [],
   "source": [
    "up_shift = utils.FCR_bac([0.1, 1.2])\n",
    "up_shift.integ_sigma(t=np.linspace(0, 5, 10000))\n",
    "trace = go.Scatter(x=up_shift.t, y=up_shift.lambda_t,\n",
    "                   line=dict(dash='dash', color='yellowgreen', width=3))\n",
    "g = go.Figure()\n",
    "g.add_trace(trace)\n",
    "g = go.FigureWidget(g)\n"
   ]
  },
  {
   "cell_type": "code",
   "execution_count": 3,
   "metadata": {
    "pycharm": {
     "is_executing": false
    }
   },
   "outputs": [
    {
     "data": {
      "application/vnd.jupyter.widget-view+json": {
       "model_id": "2da3a93c80fb4d649aba5a706bfd8284",
       "version_major": 2,
       "version_minor": 0
      },
      "text/plain": [
       "VBox(children=(HBox(children=(FloatSlider(value=0.1, description='lambdai', max=3.0, min=0.001, step=0.01), Fl…"
      ]
     },
     "metadata": {},
     "output_type": "display_data"
    }
   ],
   "source": [
    "\n",
    "def upate(lambdai, lambdaf):\n",
    "    lambdas = [lambdai, lambdaf]\n",
    "    new_line = utils.FCR_bac(lambdas)\n",
    "    new_line.integ_sigma(t=np.linspace(0, 5, 10000))\n",
    "    g.data[0].x, g.data[0].y = new_line.t, new_line.lambda_t\n",
    "    \n",
    "slid1 = widgets.FloatSlider(value=0.1, min=0.001, max=3., step=0.01)\n",
    "slid2 = widgets.FloatSlider(value=1.2, min=0.001, max=3., step=0.01)\n",
    "container = widgets.HBox(children=[slid1, slid2])\n",
    "widgets.interactive(upate, lambdai=slid1, lambdaf=slid2)\n",
    "final = widgets.VBox([container, g])\n",
    "display(final)"
   ]
  },
  {
   "cell_type": "code",
   "execution_count": 30,
   "metadata": {},
   "outputs": [
    {
     "data": {
      "text/plain": [
       "1.17"
      ]
     },
     "execution_count": 30,
     "metadata": {},
     "output_type": "execute_result"
    }
   ],
   "source": [
    "up_shift.lambda_c"
   ]
  }
 ],
 "metadata": {
  "kernelspec": {
   "display_name": "Python 3",
   "language": "python",
   "name": "python3"
  },
  "language_info": {
   "codemirror_mode": {
    "name": "ipython",
    "version": 3
   },
   "file_extension": ".py",
   "mimetype": "text/x-python",
   "name": "python",
   "nbconvert_exporter": "python",
   "pygments_lexer": "ipython3",
   "version": "3.7.3"
  },
  "pycharm": {
   "stem_cell": {
    "cell_type": "raw",
    "metadata": {
     "collapsed": false
    },
    "source": []
   }
  }
 },
 "nbformat": 4,
 "nbformat_minor": 1
}